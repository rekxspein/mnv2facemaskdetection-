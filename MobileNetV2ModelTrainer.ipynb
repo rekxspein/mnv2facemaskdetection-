{
  "nbformat": 4,
  "nbformat_minor": 0,
  "metadata": {
    "colab": {
      "name": "MobileNetV2ModelTrainer.ipynb",
      "provenance": [],
      "collapsed_sections": []
    },
    "kernelspec": {
      "name": "python3",
      "display_name": "Python 3"
    },
    "language_info": {
      "name": "python"
    }
  },
  "cells": [
    {
      "cell_type": "code",
      "metadata": {
        "colab": {
          "base_uri": "https://localhost:8080/"
        },
        "id": "XWXoaMuDbPyL",
        "outputId": "4950615b-5b10-4390-a9fa-0faa6bc10796"
      },
      "source": [
        "!pwd"
      ],
      "execution_count": null,
      "outputs": [
        {
          "output_type": "stream",
          "name": "stdout",
          "text": [
            "/content\n"
          ]
        }
      ]
    },
    {
      "cell_type": "code",
      "metadata": {
        "colab": {
          "base_uri": "https://localhost:8080/"
        },
        "id": "ruQpsD8kKc4h",
        "outputId": "3de63c5c-a876-45fb-de29-d8e5029492c5"
      },
      "source": [
        "from google.colab import drive\n",
        "drive.mount('/content/drive')"
      ],
      "execution_count": null,
      "outputs": [
        {
          "output_type": "stream",
          "name": "stdout",
          "text": [
            "Mounted at /content/drive\n"
          ]
        }
      ]
    },
    {
      "cell_type": "code",
      "metadata": {
        "id": "u4Bnm9_x5npT",
        "colab": {
          "base_uri": "https://localhost:8080/"
        },
        "outputId": "7e886978-25fd-41e9-825f-5f6faa50d0d7"
      },
      "source": [
        "cd /content/drive/MyDrive/Projects/Training Datasets/"
      ],
      "execution_count": null,
      "outputs": [
        {
          "output_type": "stream",
          "name": "stdout",
          "text": [
            "/content/drive/MyDrive/Projects/Training Datasets\n"
          ]
        }
      ]
    },
    {
      "cell_type": "code",
      "metadata": {
        "id": "dkPY-F1wPlBK"
      },
      "source": [
        "!nvidia-smi"
      ],
      "execution_count": null,
      "outputs": []
    },
    {
      "cell_type": "markdown",
      "metadata": {
        "id": "yfGbUnLXJVyh"
      },
      "source": [
        "*Importing Packages*"
      ]
    },
    {
      "cell_type": "code",
      "metadata": {
        "id": "pbDD0JXpJMWq"
      },
      "source": [
        "from tensorflow.keras.preprocessing.image import ImageDataGenerator\n",
        "from tensorflow.keras.applications import MobileNetV2\n",
        "from tensorflow.keras.layers import AveragePooling2D\n",
        "from tensorflow.keras.layers import Dropout\n",
        "from tensorflow.keras.layers import Flatten\n",
        "from tensorflow.keras.layers import Dense\n",
        "from tensorflow.keras.layers import Input\n",
        "from tensorflow.keras.models import Model\n",
        "from tensorflow.keras.optimizers import Adam\n",
        "from tensorflow.keras.applications.mobilenet_v2 import preprocess_input\n",
        "from tensorflow.keras.preprocessing.image import img_to_array\n",
        "from tensorflow.keras.preprocessing.image import load_img\n",
        "from tensorflow.keras.utils import to_categorical\n",
        "from sklearn.preprocessing import LabelBinarizer\n",
        "from sklearn.model_selection import train_test_split\n",
        "from sklearn.metrics import classification_report\n",
        "from imutils import paths\n",
        "import matplotlib.pyplot as plt\n",
        "import numpy as np\n",
        "import os\n",
        "from tqdm import tqdm\n",
        "from PIL import ImageFile #big images present in the dataset so .."
      ],
      "execution_count": null,
      "outputs": []
    },
    {
      "cell_type": "markdown",
      "metadata": {
        "id": "F6zExNPdJ9Iv"
      },
      "source": [
        "*Assigning Learning rate, EPOCHS and Batch Size*"
      ]
    },
    {
      "cell_type": "code",
      "metadata": {
        "id": "V_g4yC-0J1bZ"
      },
      "source": [
        "INIT_LR = 1e-4\n",
        "EPOCHS = 20\n",
        "BS = 32\n",
        "\n",
        "DIRECTORY = \"dataset2\"\n",
        "CATEGORIES = [\"with_mask\", \"without_mask\"]"
      ],
      "execution_count": null,
      "outputs": []
    },
    {
      "cell_type": "code",
      "metadata": {
        "colab": {
          "base_uri": "https://localhost:8080/"
        },
        "id": "q_AiDe6KLb9h",
        "outputId": "732d198f-41b5-4182-fe95-11441399c72a"
      },
      "source": [
        "print(DIRECTORY)\n",
        "print(CATEGORIES)"
      ],
      "execution_count": null,
      "outputs": [
        {
          "output_type": "stream",
          "name": "stdout",
          "text": [
            "dataset2\n",
            "['with_mask', 'without_mask']\n"
          ]
        }
      ]
    },
    {
      "cell_type": "code",
      "metadata": {
        "id": "qqH03YZlrGb0"
      },
      "source": [
        "ImageFile.LOAD_TRUNCATED_IMAGES = True"
      ],
      "execution_count": null,
      "outputs": []
    },
    {
      "cell_type": "markdown",
      "metadata": {
        "id": "CZeRBGizKSTf"
      },
      "source": [
        "*Grabbing and Initializing the images from the 'dataset' directory*"
      ]
    },
    {
      "cell_type": "code",
      "metadata": {
        "colab": {
          "base_uri": "https://localhost:8080/"
        },
        "id": "RrcwUUQiKmyz",
        "outputId": "8d003bb3-ad71-4c43-80cf-4ebe8256730b"
      },
      "source": [
        "data = []\n",
        "labels = []\n",
        "\n",
        "for category in CATEGORIES:\n",
        "    path = os.path.join(DIRECTORY, category)\n",
        "    print(\"Loading for category %s\" % category)\n",
        "    for img in tqdm(os.listdir(path)):\n",
        "        img_path = os.path.join(path, img)\n",
        "        image = load_img(img_path, target_size=(224, 224))\n",
        "        image = img_to_array(image)\n",
        "        image = preprocess_input(image)\n",
        "\n",
        "        data.append(image)\n",
        "        labels.append(category)"
      ],
      "execution_count": null,
      "outputs": [
        {
          "output_type": "stream",
          "name": "stdout",
          "text": [
            "Loading for category with_mask\n"
          ]
        },
        {
          "output_type": "stream",
          "name": "stderr",
          "text": [
            "100%|██████████| 690/690 [01:47<00:00,  6.44it/s]\n"
          ]
        },
        {
          "output_type": "stream",
          "name": "stdout",
          "text": [
            "Loading for category without_mask\n"
          ]
        },
        {
          "output_type": "stream",
          "name": "stderr",
          "text": [
            "100%|██████████| 686/686 [01:44<00:00,  6.56it/s]\n"
          ]
        }
      ]
    },
    {
      "cell_type": "code",
      "metadata": {
        "colab": {
          "base_uri": "https://localhost:8080/"
        },
        "id": "Mto944PNuG-y",
        "outputId": "cfa76216-1290-437b-bf05-333f98e994ed"
      },
      "source": [
        "print(path)\n",
        "print(img_path)\n",
        "# print(labels)\n",
        "# print(os.listdir(path))"
      ],
      "execution_count": null,
      "outputs": [
        {
          "output_type": "stream",
          "name": "stdout",
          "text": [
            "dataset2/without_mask\n",
            "dataset2/without_mask/augmented_image_208.jpg\n"
          ]
        }
      ]
    },
    {
      "cell_type": "markdown",
      "metadata": {
        "id": "3gVkIScvK8UR"
      },
      "source": [
        "*Encoding Labels*"
      ]
    },
    {
      "cell_type": "code",
      "metadata": {
        "id": "0Zbz0aeVLJUm"
      },
      "source": [
        "lb = LabelBinarizer()\n",
        "labels = lb.fit_transform(labels)\n",
        "labels = to_categorical(labels)\n",
        "\n",
        "data = np.array(data, dtype=\"float32\")\n",
        "labels = np.array(labels)\n",
        "\n",
        "(trainX, testX, trainY, testY) = train_test_split(data, labels,\n",
        "                                                  test_size=0.20, stratify=labels, random_state=42)"
      ],
      "execution_count": null,
      "outputs": []
    },
    {
      "cell_type": "markdown",
      "metadata": {
        "id": "ZPkEMD2nLTUL"
      },
      "source": [
        "*Construct the training image generator for data augmentation*"
      ]
    },
    {
      "cell_type": "code",
      "metadata": {
        "id": "saV-5T8wLPOf"
      },
      "source": [
        "aug = ImageDataGenerator(\n",
        "    rotation_range=20,\n",
        "    zoom_range=0.15,\n",
        "    width_shift_range=0.2,\n",
        "    height_shift_range=0.2,\n",
        "    shear_range=0.15,\n",
        "    horizontal_flip=True,\n",
        "    fill_mode=\"nearest\")"
      ],
      "execution_count": null,
      "outputs": []
    },
    {
      "cell_type": "markdown",
      "metadata": {
        "id": "BytEItdYLjNH"
      },
      "source": [
        "*Loading the MobileNetV2 Network, the head FC layers are set to OFF* #NOT USED"
      ]
    },
    {
      "cell_type": "code",
      "metadata": {
        "id": "-COl8XYRLuC4",
        "colab": {
          "base_uri": "https://localhost:8080/"
        },
        "outputId": "359e5baa-bdcf-4868-e92a-b257cc0f979b"
      },
      "source": [
        "baseModel = MobileNetV2(weights=\"imagenet\", include_top=False,\n",
        "                         input_tensor=Input(shape=(224, 224, 3)))"
      ],
      "execution_count": null,
      "outputs": [
        {
          "output_type": "stream",
          "name": "stdout",
          "text": [
            "WARNING:tensorflow:`input_shape` is undefined or non-square, or `rows` is not in [96, 128, 160, 192, 224]. Weights for input shape (224, 224) will be loaded as the default.\n",
            "Downloading data from https://storage.googleapis.com/tensorflow/keras-applications/mobilenet_v2/mobilenet_v2_weights_tf_dim_ordering_tf_kernels_1.0_224_no_top.h5\n",
            "9412608/9406464 [==============================] - 0s 0us/step\n",
            "9420800/9406464 [==============================] - 0s 0us/step\n"
          ]
        }
      ]
    },
    {
      "cell_type": "markdown",
      "metadata": {
        "id": "iPoMBzAnMcJQ"
      },
      "source": [
        "*Constructing the head of the Model that weill be placeed on top of the base Model*"
      ]
    },
    {
      "cell_type": "code",
      "metadata": {
        "id": "TefFQyfvMdLD"
      },
      "source": [
        "headModel = baseModel.output\n",
        "headModel = AveragePooling2D(pool_size=(5, 5))(headModel)\n",
        "headModel = Flatten(name=\"flatten\")(headModel)\n",
        "headModel = Dense(128, activation=\"relu\")(headModel)\n",
        "headModel = Dropout(0.5)(headModel)\n",
        "headModel = Dense(2, activation=\"softmax\")(headModel)"
      ],
      "execution_count": null,
      "outputs": []
    },
    {
      "cell_type": "markdown",
      "metadata": {
        "id": "s7EdwO7oNBut"
      },
      "source": [
        "*Placing the head FC model on top of the base model (this will become the actual model we will train)*"
      ]
    },
    {
      "cell_type": "code",
      "metadata": {
        "id": "vLK8Ua_LM9f7"
      },
      "source": [
        "model = Model(inputs=baseModel.input, outputs=headModel)"
      ],
      "execution_count": null,
      "outputs": []
    },
    {
      "cell_type": "markdown",
      "metadata": {
        "id": "EasLbdXZNhiO"
      },
      "source": [
        "*loop over all layers in the base model and freeze them so they will not be updated during the first training process*"
      ]
    },
    {
      "cell_type": "code",
      "metadata": {
        "id": "j16luDFrNpQu"
      },
      "source": [
        "for layer in baseModel.layers:\n",
        "    layer.trainable = False"
      ],
      "execution_count": null,
      "outputs": []
    },
    {
      "cell_type": "markdown",
      "metadata": {
        "id": "xb35SASwN5X3"
      },
      "source": [
        "*Compiling the Model*"
      ]
    },
    {
      "cell_type": "code",
      "metadata": {
        "id": "_MUdCY0ON942",
        "colab": {
          "base_uri": "https://localhost:8080/"
        },
        "outputId": "7b55d059-f579-4597-c264-2bb281fe231c"
      },
      "source": [
        "print(\"[INFO] compiling the model...\")\n",
        "opt = Adam(learning_rate=INIT_LR, decay=INIT_LR / EPOCHS)\n",
        "model.compile(loss=\"binary_crossentropy\", optimizer=opt,\n",
        "              metrics=[\"accuracy\"])"
      ],
      "execution_count": null,
      "outputs": [
        {
          "output_type": "stream",
          "name": "stdout",
          "text": [
            "[INFO] compiling the model...\n"
          ]
        }
      ]
    },
    {
      "cell_type": "markdown",
      "metadata": {
        "id": "OSfksNUQOGc0"
      },
      "source": [
        "*Train the head of the Network*"
      ]
    },
    {
      "cell_type": "code",
      "metadata": {
        "id": "N9F2RKVwOKXQ",
        "colab": {
          "base_uri": "https://localhost:8080/"
        },
        "outputId": "4d588321-3ee5-425c-c13b-50d7d1013d5f"
      },
      "source": [
        "print(\"[INFO] training the head part...\")\n",
        "H = model.fit(\n",
        "    aug.flow(trainX, trainY, batch_size=BS),\n",
        "    steps_per_epoch=len(trainX) // BS,\n",
        "    validation_data=(testX, testY),\n",
        "    validation_steps=len(testX) // BS,\n",
        "    epochs=EPOCHS,\n",
        "    verbose=2)"
      ],
      "execution_count": null,
      "outputs": [
        {
          "output_type": "stream",
          "name": "stdout",
          "text": [
            "[INFO] training the head part...\n",
            "Epoch 1/20\n",
            "34/34 - 56s - loss: 0.5436 - accuracy: 0.7949 - val_loss: 0.2240 - val_accuracy: 0.9710\n",
            "Epoch 2/20\n",
            "34/34 - 51s - loss: 0.2273 - accuracy: 0.9616 - val_loss: 0.0982 - val_accuracy: 0.9891\n",
            "Epoch 3/20\n",
            "34/34 - 52s - loss: 0.1440 - accuracy: 0.9700 - val_loss: 0.0560 - val_accuracy: 0.9964\n",
            "Epoch 4/20\n",
            "34/34 - 51s - loss: 0.1026 - accuracy: 0.9794 - val_loss: 0.0390 - val_accuracy: 0.9964\n",
            "Epoch 5/20\n",
            "34/34 - 51s - loss: 0.0852 - accuracy: 0.9803 - val_loss: 0.0296 - val_accuracy: 0.9964\n",
            "Epoch 6/20\n",
            "34/34 - 51s - loss: 0.0678 - accuracy: 0.9841 - val_loss: 0.0241 - val_accuracy: 0.9964\n",
            "Epoch 7/20\n",
            "34/34 - 51s - loss: 0.0597 - accuracy: 0.9888 - val_loss: 0.0181 - val_accuracy: 0.9964\n",
            "Epoch 8/20\n",
            "34/34 - 51s - loss: 0.0544 - accuracy: 0.9878 - val_loss: 0.0211 - val_accuracy: 0.9964\n",
            "Epoch 9/20\n",
            "34/34 - 51s - loss: 0.0552 - accuracy: 0.9860 - val_loss: 0.0186 - val_accuracy: 0.9964\n",
            "Epoch 10/20\n",
            "34/34 - 51s - loss: 0.0530 - accuracy: 0.9869 - val_loss: 0.0154 - val_accuracy: 0.9964\n",
            "Epoch 11/20\n",
            "34/34 - 51s - loss: 0.0402 - accuracy: 0.9906 - val_loss: 0.0104 - val_accuracy: 0.9964\n",
            "Epoch 12/20\n",
            "34/34 - 51s - loss: 0.0369 - accuracy: 0.9878 - val_loss: 0.0130 - val_accuracy: 0.9964\n",
            "Epoch 13/20\n",
            "34/34 - 51s - loss: 0.0383 - accuracy: 0.9897 - val_loss: 0.0129 - val_accuracy: 0.9964\n",
            "Epoch 14/20\n",
            "34/34 - 51s - loss: 0.0379 - accuracy: 0.9916 - val_loss: 0.0109 - val_accuracy: 0.9964\n",
            "Epoch 15/20\n",
            "34/34 - 51s - loss: 0.0216 - accuracy: 0.9953 - val_loss: 0.0087 - val_accuracy: 0.9964\n",
            "Epoch 16/20\n",
            "34/34 - 51s - loss: 0.0250 - accuracy: 0.9934 - val_loss: 0.0089 - val_accuracy: 0.9964\n",
            "Epoch 17/20\n",
            "34/34 - 52s - loss: 0.0229 - accuracy: 0.9953 - val_loss: 0.0091 - val_accuracy: 0.9964\n",
            "Epoch 18/20\n",
            "34/34 - 51s - loss: 0.0251 - accuracy: 0.9934 - val_loss: 0.0074 - val_accuracy: 1.0000\n",
            "Epoch 19/20\n",
            "34/34 - 52s - loss: 0.0363 - accuracy: 0.9897 - val_loss: 0.0063 - val_accuracy: 1.0000\n",
            "Epoch 20/20\n",
            "34/34 - 51s - loss: 0.0222 - accuracy: 0.9925 - val_loss: 0.0063 - val_accuracy: 1.0000\n"
          ]
        }
      ]
    },
    {
      "cell_type": "markdown",
      "metadata": {
        "id": "kYMTtOxFONqW"
      },
      "source": [
        "*Making predictions on the testing set*"
      ]
    },
    {
      "cell_type": "code",
      "metadata": {
        "id": "w-wdHJp6OTRx",
        "colab": {
          "base_uri": "https://localhost:8080/"
        },
        "outputId": "127296d2-f8be-4d87-e8d8-d3ea277a77ce"
      },
      "source": [
        "print(\"[INFO] evaluating network...\")\n",
        "predIdxs = model.predict(testX, batch_size=BS)"
      ],
      "execution_count": null,
      "outputs": [
        {
          "output_type": "stream",
          "name": "stdout",
          "text": [
            "[INFO] evaluating network...\n"
          ]
        }
      ]
    },
    {
      "cell_type": "markdown",
      "metadata": {
        "id": "4yDtCMkAOYdy"
      },
      "source": [
        "*for each image in the testing set we need to find the index of the\n",
        "label with corresponding largest predicted probability*"
      ]
    },
    {
      "cell_type": "code",
      "metadata": {
        "id": "ACqNuzOPOjkn"
      },
      "source": [
        "predIdxs = np.argmax(predIdxs, axis=1)"
      ],
      "execution_count": null,
      "outputs": []
    },
    {
      "cell_type": "markdown",
      "metadata": {
        "id": "MGSUtshJOt99"
      },
      "source": [
        "*Showing a Formatted Classification report*"
      ]
    },
    {
      "cell_type": "code",
      "metadata": {
        "id": "UhCetebOO2vT",
        "colab": {
          "base_uri": "https://localhost:8080/"
        },
        "outputId": "485639f4-e1d4-4911-d738-826a565b6800"
      },
      "source": [
        "print(classification_report(testY.argmax(axis=1), predIdxs,\n",
        "                            target_names=lb.classes_))"
      ],
      "execution_count": null,
      "outputs": [
        {
          "output_type": "stream",
          "name": "stdout",
          "text": [
            "              precision    recall  f1-score   support\n",
            "\n",
            "   with_mask       1.00      1.00      1.00       138\n",
            "without_mask       1.00      1.00      1.00       138\n",
            "\n",
            "    accuracy                           1.00       276\n",
            "   macro avg       1.00      1.00      1.00       276\n",
            "weighted avg       1.00      1.00      1.00       276\n",
            "\n"
          ]
        }
      ]
    },
    {
      "cell_type": "markdown",
      "metadata": {
        "id": "2ejn3oKAO7PS"
      },
      "source": [
        "*Serialize (Writing)the Model to Local Disk*"
      ]
    },
    {
      "cell_type": "code",
      "metadata": {
        "id": "ppqo5yGPPH_7",
        "colab": {
          "base_uri": "https://localhost:8080/"
        },
        "outputId": "b0b28602-9d75-48ad-d71c-e60bc22c210a"
      },
      "source": [
        "print(\"[INFO] saving mask detector model...\")\n",
        "model.save(\"mnv2_ds2_mask_detector.hdf5\", save_format=\"h5\")"
      ],
      "execution_count": null,
      "outputs": [
        {
          "output_type": "stream",
          "name": "stdout",
          "text": [
            "[INFO] saving mask detector model...\n"
          ]
        },
        {
          "output_type": "stream",
          "name": "stderr",
          "text": [
            "/usr/local/lib/python3.7/dist-packages/keras/utils/generic_utils.py:497: CustomMaskWarning: Custom mask layers require a config and must override get_config. When loading, the custom mask layer must be passed to the custom_objects argument.\n",
            "  category=CustomMaskWarning)\n"
          ]
        }
      ]
    },
    {
      "cell_type": "markdown",
      "metadata": {
        "id": "OjmB1T3yPOzk"
      },
      "source": [
        "*Plotting the training loss and accuracy*"
      ]
    },
    {
      "cell_type": "code",
      "metadata": {
        "id": "jjRQcN43PTkF",
        "colab": {
          "base_uri": "https://localhost:8080/",
          "height": 299
        },
        "outputId": "76817b71-6f01-4138-ae93-5a0692593942"
      },
      "source": [
        "N = EPOCHS\n",
        "plt.style.use(\"ggplot\")\n",
        "plt.figure()\n",
        "plt.plot(np.arange(0, N), H.history[\"loss\"], label=\"train_loss\")\n",
        "plt.plot(np.arange(0, N), H.history[\"val_loss\"], label=\"val_loss\")\n",
        "plt.plot(np.arange(0, N), H.history[\"accuracy\"], label=\"train_acc\")\n",
        "plt.plot(np.arange(0, N), H.history[\"val_accuracy\"], label=\"val_acc\")\n",
        "plt.title(\"Training Loss and Accuracy\")\n",
        "plt.xlabel(\"Epoch #\")\n",
        "plt.ylabel(\"Loss/Accuracy\")\n",
        "plt.legend(loc=\"lower left\")\n",
        "plt.savefig(\"mnv2_ds2_plot.png\")"
      ],
      "execution_count": null,
      "outputs": [
        {
          "output_type": "display_data",
          "data": {
            "image/png": "[encoded data removed]",
            "text/plain": [
              "<Figure size 432x288 with 1 Axes>"
            ]
          },
          "metadata": {}
        }
      ]
    }
  ]
}